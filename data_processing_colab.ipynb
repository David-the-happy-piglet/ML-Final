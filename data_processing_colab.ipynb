{
  "nbformat": 4,
  "nbformat_minor": 0,
  "metadata": {
    "colab": {
      "provenance": []
    },
    "kernelspec": {
      "name": "python3",
      "display_name": "Python 3"
    },
    "language_info": {
      "name": "python"
    }
  },
  "cells": [
    {
      "cell_type": "code",
      "execution_count": 1,
      "metadata": {
        "id": "B_4QLo3MWo9q"
      },
      "outputs": [],
      "source": [
        "import pandas as pd"
      ]
    },
    {
      "cell_type": "code",
      "source": [
        "stock_prices=pd.read_csv(\"TSLA_2015_2020.csv\")\n",
        "tweets = pd.read_csv(\"tsla_dataset.csv\")\n",
        "\n",
        "#convert the post_date to datetime\n",
        "tweets[\"post_date\"] = pd.to_datetime(tweets[\"post_date\"])\n",
        "stock_prices[\"Date\"] = pd.to_datetime(stock_prices[\"Date\"])"
      ],
      "metadata": {
        "id": "Tns954b6W41_"
      },
      "execution_count": 2,
      "outputs": []
    },
    {
      "cell_type": "code",
      "source": [
        "#extract the date only\n",
        "tweets[\"date\"] = tweets[\"post_date\"].dt.date\n",
        "stock_prices[\"date\"] = stock_prices[\"Date\"].dt.date"
      ],
      "metadata": {
        "id": "rFb7eqnQXMUR"
      },
      "execution_count": 3,
      "outputs": []
    },
    {
      "cell_type": "code",
      "source": [
        "#get the trading dates\n",
        "trading_dates = stock_prices[\"Date\"].dt.date"
      ],
      "metadata": {
        "id": "zMRBllKoXQIz"
      },
      "execution_count": 4,
      "outputs": []
    },
    {
      "cell_type": "code",
      "source": [
        "#get the next trading day for each tweet\n",
        "def get_next_trading_day(tweet_date):\n",
        "    later = trading_dates[trading_dates >= tweet_date]\n",
        "    return later.min() if not later.empty else None"
      ],
      "metadata": {
        "id": "QpdF6cdBXUMf"
      },
      "execution_count": 6,
      "outputs": []
    },
    {
      "cell_type": "code",
      "source": [
        "tweets[\"effective_date\"] = tweets[\"post_date\"].dt.date.apply(get_next_trading_day)"
      ],
      "metadata": {
        "id": "owKtXbFwXXXW"
      },
      "execution_count": 7,
      "outputs": []
    },
    {
      "cell_type": "code",
      "source": [
        "tweets[\"effective_date\"] = pd.to_datetime(tweets[\"effective_date\"])\n",
        "#merge the stock prices and the tweets\n",
        "data=pd.merge(stock_prices, tweets,left_on=\"Date\",right_on=\"effective_date\", how=\"inner\")"
      ],
      "metadata": {
        "id": "G-xgHh2_Xc27"
      },
      "execution_count": 8,
      "outputs": []
    },
    {
      "cell_type": "code",
      "source": [
        "data.drop(columns=[\"Date\"], inplace=True)\n",
        "data.to_csv(\"TSLA_2015_2020_with_tweets.csv\")"
      ],
      "metadata": {
        "id": "E9JhO9oNZSKS"
      },
      "execution_count": 9,
      "outputs": []
    },
    {
      "cell_type": "code",
      "source": [
        "start_date = \"2015-01-01\"\n",
        "end_date = \"2016-01-01\"\n",
        "\n",
        "filtered = data[(data[\"post_date\"] >= start_date) & (data[\"post_date\"] <= end_date)]\n",
        "\n",
        "filtered.to_csv(\"eda_data.csv\", index=True)"
      ],
      "metadata": {
        "id": "m-y2mdqVaqkU"
      },
      "execution_count": 11,
      "outputs": []
    }
  ]
}